{
 "cells": [
  {
   "cell_type": "code",
   "execution_count": 2,
   "metadata": {},
   "outputs": [],
   "source": [
    "import os\n",
    "import cv2\n",
    "import numpy as np\n",
    "from scipy import ndimage\n",
    "from scipy.signal import convolve2d\n",
    "\n",
    "from utils.imgutils import *\n",
    "from utils.functions import *"
   ]
  },
  {
   "cell_type": "code",
   "execution_count": 13,
   "metadata": {},
   "outputs": [
    {
     "name": "stdout",
     "output_type": "stream",
     "text": [
      "(280, 320)\n",
      "([np.int64(137), np.int64(180), np.int64(99)], [np.int64(134), np.int64(182), np.int64(37)], array([[173., 171., 170., ..., 179., 184., 170.],\n",
      "       [172., 170., 170., ..., 186., 184., 171.],\n",
      "       [173., 172., 171., ..., 196., 185., 172.],\n",
      "       ...,\n",
      "       [156., 154., 152., ..., 172., 183., 194.],\n",
      "       [156., 154., 151., ..., 170., 180., 191.],\n",
      "       [155., 153., 150., ..., 169., 176., 185.]], shape=(280, 320)))\n"
     ]
    }
   ],
   "source": [
    "filename = '../project_github/IrisRecognition/CASIA1/1/001_1_1.jpg'\n",
    "img = cv2.imread(filename, 0)\n",
    "print(img.shape)\n",
    "\n",
    "seg = segment(img, 80, False)"
   ]
  }
 ],
 "metadata": {
  "kernelspec": {
   "display_name": "Python 3",
   "language": "python",
   "name": "python3"
  },
  "language_info": {
   "codemirror_mode": {
    "name": "ipython",
    "version": 3
   },
   "file_extension": ".py",
   "mimetype": "text/x-python",
   "name": "python",
   "nbconvert_exporter": "python",
   "pygments_lexer": "ipython3",
   "version": "3.11.13"
  },
  "orig_nbformat": 4
 },
 "nbformat": 4,
 "nbformat_minor": 2
}
